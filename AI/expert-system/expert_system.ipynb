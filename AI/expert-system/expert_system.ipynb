{
  "cells": [
    {
      "cell_type": "code",
      "execution_count": 1,
      "metadata": {
        "colab": {
          "base_uri": "https://localhost:8080/"
        },
        "id": "7yWVlP17Dim7",
        "outputId": "fc2db2bd-1d65-4155-c0b6-dbb847577247"
      },
      "outputs": [
        {
          "name": "stdout",
          "output_type": "stream",
          "text": [
            "Requirement already satisfied: experta in /usr/local/lib/python3.11/dist-packages (1.9.4)\n",
            "Requirement already satisfied: frozendict==1.2 in /usr/local/lib/python3.11/dist-packages (from experta) (1.2)\n",
            "Requirement already satisfied: schema==0.6.7 in /usr/local/lib/python3.11/dist-packages (from experta) (0.6.7)\n"
          ]
        }
      ],
      "source": [
        "!pip install experta"
      ]
    },
    {
      "cell_type": "code",
      "execution_count": 2,
      "metadata": {
        "colab": {
          "base_uri": "https://localhost:8080/"
        },
        "id": "Uu35kN6EDvVl",
        "outputId": "204d86f9-7ff0-47a4-c983-8f60dad4b219"
      },
      "outputs": [
        {
          "name": "stdout",
          "output_type": "stream",
          "text": [
            "Do you have a fever? (yes/no): no\n",
            "Do you have a cough? (yes/no): no\n",
            "Are you sneezing? (yes/no): yes\n",
            "Do you have a headache? (yes/no): no\n",
            "Diagnosis: You may have an allergy.\n",
            "Advice: Avoid allergens and consider antihistamines.\n"
          ]
        }
      ],
      "source": [
        "import collections\n",
        "import collections.abc\n",
        "\n",
        "collections.Mapping = collections.abc.Mapping\n",
        "collections.MutableMapping = collections.abc.MutableMapping\n",
        "collections.Sequence = collections.abc.Sequence\n",
        "\n",
        "from experta import *\n",
        "\n",
        "class Patient(Fact):\n",
        "    \"\"\"Info about the patient\"\"\"\n",
        "    pass\n",
        "\n",
        "class HospitalExpertSystem(KnowledgeEngine):\n",
        "    @DefFacts()\n",
        "    def _initial_action(self):\n",
        "        yield Fact(action=\"find_disease\")\n",
        "\n",
        "    # Rule for cold\n",
        "    @Rule(Fact(action='find_disease'),\n",
        "          Patient(fever='no', cough='yes', sneezing='yes', headache='no'),\n",
        "          salience=3)\n",
        "    def cold(self):\n",
        "        print(\"Diagnosis: You may have a common cold.\")\n",
        "        print(\"Advice: Rest, drink fluids, and consider over-the-counter cold remedies.\")\n",
        "        self.halt()\n",
        "\n",
        "    # Rule for flu\n",
        "    @Rule(Fact(action='find_disease'),\n",
        "          Patient(fever='yes', cough='yes', sneezing='no', headache='yes'),\n",
        "          salience=3)\n",
        "    def flu(self):\n",
        "        print(\"Diagnosis: You may have the flu.\")\n",
        "        print(\"Advice: Rest, drink plenty of fluids, and consult a doctor if symptoms persist.\")\n",
        "        self.halt()\n",
        "\n",
        "    # Rule for allergy\n",
        "    @Rule(Fact(action='find_disease'),\n",
        "          Patient(fever='no', cough='no', sneezing='yes', headache='no'),\n",
        "          salience=3)\n",
        "    def allergy(self):\n",
        "        print(\"Diagnosis: You may have an allergy.\")\n",
        "        print(\"Advice: Avoid allergens and consider antihistamines.\")\n",
        "        self.halt()\n",
        "\n",
        "    # Rule for unknown (lowest salience)\n",
        "    @Rule(Fact(action='find_disease'),\n",
        "          Patient(),\n",
        "          salience=0)\n",
        "    def unknown(self):\n",
        "        print(\"Diagnosis: Unable to determine. Please consult a doctor for further diagnosis.\")\n",
        "        self.halt()\n",
        "\n",
        "# Run the expert system immediately\n",
        "engine = HospitalExpertSystem()\n",
        "engine.reset()\n",
        "\n",
        "# Collect user input\n",
        "fever = input(\"Do you have a fever? (yes/no): \").strip().lower()\n",
        "cough = input(\"Do you have a cough? (yes/no): \").strip().lower()\n",
        "sneezing = input(\"Are you sneezing? (yes/no): \").strip().lower()\n",
        "headache = input(\"Do you have a headache? (yes/no): \").strip().lower()\n",
        "\n",
        "engine.declare(Patient(fever=fever, cough=cough, sneezing=sneezing, headache=headache))\n",
        "engine.run()\n"
      ]
    }
  ],
  "metadata": {
    "colab": {
      "provenance": []
    },
    "kernelspec": {
      "display_name": "Python 3",
      "name": "python3"
    },
    "language_info": {
      "name": "python"
    }
  },
  "nbformat": 4,
  "nbformat_minor": 0
}
